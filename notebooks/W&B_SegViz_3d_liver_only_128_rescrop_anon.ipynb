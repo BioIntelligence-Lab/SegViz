{
  "cells": [
    {
      "cell_type": "markdown",
      "metadata": {
        "id": "XVHtEqy6Pg0j"
      },
      "source": [
        "## Setup environment"
      ]
    },
    {
      "cell_type": "code",
      "execution_count": null,
      "metadata": {
        "tags": [],
        "id": "B3eIjeNzPg0j"
      },
      "outputs": [],
      "source": [
        "from monai.utils import first, set_determinism\n",
        "from monai.transforms import (\n",
        "    AsDiscrete,\n",
        "    AsDiscreted,\n",
        "    EnsureChannelFirstd,\n",
        "    Compose,\n",
        "    CropForegroundd,\n",
        "    LoadImaged,\n",
        "    Orientationd,\n",
        "    RandCropByPosNegLabeld,\n",
        "    SaveImaged,\n",
        "    RandAffined,\n",
        "    ScaleIntensityRanged,\n",
        "    Spacingd,\n",
        "    Invertd,\n",
        "    Resized,\n",
        ")\n",
        "from monai.handlers.utils import from_engine\n",
        "from monai.networks.nets import UNet, BasicUNet\n",
        "from monai.networks.layers import Norm\n",
        "from torch.optim.lr_scheduler import CosineAnnealingLR\n",
        "\n",
        "from monai.metrics import DiceMetric, ROCAUCMetric, MSEMetric\n",
        "from monai.networks.utils import copy_model_state\n",
        "from monai.optimizers import generate_param_groups\n",
        "from monai.losses import DiceLoss\n",
        "from monai.inferers import sliding_window_inference\n",
        "from monai.data import CacheDataset, DataLoader, Dataset, decollate_batch\n",
        "from monai.config import print_config\n",
        "from monai.apps import download_and_extract\n",
        "import torch\n",
        "import matplotlib.pyplot as plt\n",
        "import tempfile\n",
        "import shutil\n",
        "import os\n",
        "import glob\n",
        "import numpy as np\n",
        "import wandb\n",
        "import copy\n",
        "import nibabel as nib\n",
        "%matplotlib inline"
      ]
    },
    {
      "cell_type": "code",
      "source": [
        "torch.backends.cudnn.benchmark = True"
      ],
      "metadata": {
        "id": "QovUUOzklUx1"
      },
      "execution_count": null,
      "outputs": []
    },
    {
      "cell_type": "markdown",
      "metadata": {
        "id": "G8kPOLVIPg0k"
      },
      "source": [
        "## Setup imports"
      ]
    },
    {
      "cell_type": "markdown",
      "metadata": {
        "id": "r7hO81pBPg0l"
      },
      "source": [
        "## Setup data directory\n",
        "\n",
        "You can specify a directory with the `MONAI_DATA_DIRECTORY` environment variable.  \n",
        "This allows you to save results and reuse downloads.  \n",
        "If not specified a temporary directory will be used."
      ]
    },
    {
      "cell_type": "code",
      "execution_count": null,
      "metadata": {
        "tags": [],
        "id": "8h5uHSK9Pg0l"
      },
      "outputs": [],
      "source": [
        "directory = os.environ.get(\"MONAI_DATA_DIRECTORY\")\n",
        "root_dir = '/content/'\n",
        "print(root_dir)"
      ]
    },
    {
      "cell_type": "markdown",
      "metadata": {
        "id": "a540_rw-Pg0l"
      },
      "source": [
        "## Download dataset\n",
        "\n",
        "Downloads and extracts the dataset.  \n",
        "The dataset comes from http://medicaldecathlon.com/."
      ]
    },
    {
      "cell_type": "code",
      "source": [
        "resource_liver = \"https://msd-for-monai.s3-us-west-2.amazonaws.com/Task03_Liver.tar\"\n",
        "md5_liver = \"a90ec6c4aa7f6a3d087205e23d4e6397\"\n",
        "\n",
        "compressed_file_liver = os.path.join(root_dir, \"Task03_Liver.tar\")\n",
        "data_dir_liver = os.path.join(root_dir, \"Task03_Liver\")\n",
        "if not os.path.exists(data_dir_liver):\n",
        "    download_and_extract(resource_liver, compressed_file_liver, root_dir, md5_liver)"
      ],
      "metadata": {
        "id": "e7aSJinPPfjl"
      },
      "execution_count": null,
      "outputs": []
    },
    {
      "cell_type": "markdown",
      "metadata": {
        "id": "R1Q681AXQ458"
      },
      "source": [
        "## Set MSD Liver dataset path"
      ]
    },
    {
      "cell_type": "code",
      "source": [
        "train_images = sorted(\n",
        "    glob.glob(os.path.join(data_dir_liver, \"imagesTr\", \"*.nii.gz\")))\n",
        "train_labels = sorted(\n",
        "    glob.glob(os.path.join(data_dir_liver, \"labelsTr\", \"*.nii.gz\")))\n",
        "data_dicts_liver = [\n",
        "    {\"image\": image_name, \"label\": label_name}\n",
        "    for image_name, label_name in zip(train_images, train_labels)\n",
        "]\n",
        "train_files_liver, val_files_liver = data_dicts_liver[:-25], data_dicts_liver[-25:]"
      ],
      "metadata": {
        "id": "NCVoDfK2QINp"
      },
      "execution_count": null,
      "outputs": []
    },
    {
      "cell_type": "markdown",
      "source": [
        "## Convert Multilabel to single label for liver"
      ],
      "metadata": {
        "id": "KKiSne_S5U-H"
      }
    },
    {
      "cell_type": "code",
      "source": [
        "import nibabel as nib\n",
        "for image_path in sorted(glob.glob(os.path.join(data_dir_liver, \"labelsTr\", \"*.nii.gz\"))):\n",
        "  image_file = nib.load(image_path)\n",
        "  image_file_array = nib.load(image_path).get_fdata()\n",
        "  image_file_array[image_file_array > 1 ] = 1\n",
        "  image_file_final = nib.Nifti1Image(image_file_array, image_file.affine)\n",
        "  nib.save(image_file_final , image_path)"
      ],
      "metadata": {
        "id": "RPjmx8ndkSBh"
      },
      "execution_count": null,
      "outputs": []
    },
    {
      "cell_type": "markdown",
      "metadata": {
        "id": "yMK0hwYxPg0m"
      },
      "source": [
        "## Set deterministic training for reproducibility"
      ]
    },
    {
      "cell_type": "code",
      "execution_count": null,
      "metadata": {
        "id": "_VfXGpEAPg0m"
      },
      "outputs": [],
      "source": [
        "set_determinism(seed=0)"
      ]
    },
    {
      "cell_type": "markdown",
      "metadata": {
        "id": "_y_VXPUFPg0m"
      },
      "source": [
        "## Setup transforms for training and validation\n",
        "\n",
        "Here we use several transforms to augment the dataset:\n",
        "1. `LoadImaged` loads the spleen CT images and labels from NIfTI format files.\n",
        "1. `EnsureChannelFirstd` ensures the original data to construct \"channel first\" shape.\n",
        "1. `Orientationd` unifies the data orientation based on the affine matrix.\n",
        "1. `Spacingd` adjusts the spacing by `pixdim=(1.5, 1.5, 2.)` based on the affine matrix.\n",
        "1. `ScaleIntensityRanged` extracts intensity range [-57, 164] and scales to [0, 1].\n",
        "1. `CropForegroundd` removes all zero borders to focus on the valid body area of the images and labels.\n",
        "1. `RandCropByPosNegLabeld` randomly crop patch samples from big image based on pos / neg ratio.  \n",
        "The image centers of negative samples must be in valid body area.\n",
        "1. `RandAffined` efficiently performs `rotate`, `scale`, `shear`, `translate`, etc. together based on PyTorch affine transform."
      ]
    },
    {
      "cell_type": "code",
      "execution_count": null,
      "metadata": {
        "id": "SUNPr9J5Pg0m"
      },
      "outputs": [],
      "source": [
        "train_transforms_liver = Compose(\n",
        "    [\n",
        "        LoadImaged(keys=[\"image\", \"label\"]),\n",
        "        EnsureChannelFirstd(keys=[\"image\", \"label\"]),\n",
        "        ScaleIntensityRanged(\n",
        "            keys=[\"image\"], a_min=-200, a_max=200,\n",
        "            b_min=0.0, b_max=1.0, clip=True,\n",
        "        ),\n",
        "        Resized(keys=[\"image\"], spatial_size=(256,256,128)),   \n",
        "        Resized(keys=[\"label\"], spatial_size=(256,256,128), mode='nearest'), \n",
        "        # CropForegroundd(keys=[\"image\", \"label\"], source_key=\"image\"),\n",
        "        Orientationd(keys=[\"image\", \"label\"], axcodes=\"RAS\"),\n",
        "        Spacingd(keys=[\"image\", \"label\"], pixdim=(\n",
        "            1.5, 1.5, 2.0), mode=(\"bilinear\", \"nearest\")),\n",
        "        RandCropByPosNegLabeld(\n",
        "            keys=[\"image\", \"label\"],\n",
        "            label_key=\"label\",\n",
        "            spatial_size=(128,128,32),\n",
        "            pos=1,\n",
        "            neg=1,\n",
        "            num_samples=4,\n",
        "            image_key=\"image\",\n",
        "            image_threshold=0,\n",
        "        ),\n",
        "    ]\n",
        ")\n",
        "val_transform_liver = Compose(\n",
        "    [\n",
        "        LoadImaged(keys=[\"image\", \"label\"]),\n",
        "        EnsureChannelFirstd(keys=[\"image\", \"label\"]),\n",
        "        ScaleIntensityRanged(\n",
        "            keys=[\"image\"], a_min=-200, a_max=200,\n",
        "            b_min=0.0, b_max=1.0, clip=True,\n",
        "        ),\n",
        "        CropForegroundd(keys=[\"image\", \"label\"], source_key=\"image\"),\n",
        "        Orientationd(keys=[\"image\", \"label\"], axcodes=\"RAS\"),\n",
        "        Spacingd(keys=[\"image\", \"label\"], pixdim=(\n",
        "            1.5, 1.5, 2.0), mode=(\"bilinear\", \"nearest\")),\n",
        "    ]\n",
        ")"
      ]
    },
    {
      "cell_type": "markdown",
      "metadata": {
        "id": "NMmJmbGvPg0n"
      },
      "source": [
        "## Check transforms in DataLoader"
      ]
    },
    {
      "cell_type": "code",
      "source": [
        "check_ds = Dataset(data=train_files_liver, transform=train_transforms_liver)\n",
        "check_loader = DataLoader(check_ds, batch_size=1)\n",
        "check_data = first(check_loader)\n",
        "image, label = (check_data[\"image\"][0][0], check_data[\"label\"][0][0])\n",
        "print(f\"image shape: {image.shape}, label shape: {label.shape}\")\n",
        "label[label != 1]= 0\n",
        "print(np.unique(label))\n",
        "# plot the slice [:, :, 80]\n",
        "plt.figure(\"check\", (12, 6))\n",
        "plt.subplot(1, 2, 1)\n",
        "plt.title(\"image\")\n",
        "plt.imshow(image[:, :, 16], cmap=\"gray\")\n",
        "plt.subplot(1, 2, 2)\n",
        "plt.title(\"label\")\n",
        "plt.imshow(label[:, :, 16])\n",
        "plt.show()"
      ],
      "metadata": {
        "id": "NLF_5fEbVWQT"
      },
      "execution_count": null,
      "outputs": []
    },
    {
      "cell_type": "markdown",
      "source": [
        "#Logging spleen & liver slices to w&B\n"
      ],
      "metadata": {
        "id": "n_COCbA7ite4"
      }
    },
    {
      "cell_type": "code",
      "source": [
        "# utility function for generating interactive image mask from components\n",
        "def wb_mask(bg_img, mask):\n",
        "    return wandb.Image(bg_img, masks={\n",
        "    \"ground truth\" : {\"mask_data\" : mask, \"class_labels\" : {0: \"background\", 1: \"mask\"} }})\n",
        "\n",
        "def log_liver_slices(total_slices=100):\n",
        "    \n",
        "    wandb_mask_logs = []\n",
        "    wandb_img_logs = []\n",
        "\n",
        "    check_ds = Dataset(data=train_files_liver, transform=val_transform_liver)\n",
        "    check_loader = DataLoader(check_ds, batch_size=1)\n",
        "    check_data = first(check_loader) # get the first item of the dataloader\n",
        "\n",
        "    image, label = (check_data[\"image\"][0][0], check_data[\"label\"][0][0])\n",
        "    \n",
        "    for img_slice_no in range(total_slices):\n",
        "        img = image[:, :, img_slice_no]\n",
        "        lbl = label[:, :, img_slice_no]\n",
        "        \n",
        "        # append the image to wandb_img_list to visualize \n",
        "        # the slices interactively in W&B dashboard\n",
        "        wandb_img_logs.append(wandb.Image(img, caption=f\"Slice: {img_slice_no}\"))\n",
        "\n",
        "        # append the image and masks to wandb_mask_logs\n",
        "        # to see the masks overlayed on the original image\n",
        "        wandb_mask_logs.append(wb_mask(img, lbl))\n",
        "\n",
        "    wandb.log({\"Liver Image\": wandb_img_logs})\n",
        "    wandb.log({\"Segmentation Liver\": wandb_mask_logs})"
      ],
      "metadata": {
        "id": "FzCuZs3WitAv"
      },
      "execution_count": null,
      "outputs": []
    },
    {
      "cell_type": "code",
      "source": [
        "# 🐝 init wandb with appropiate project and run name\n",
        "wandb.init(project=\"SegViz_3D\", name=\"slice_image_exploration\")\n",
        "# 🐝 log images to W&B\n",
        "# log_spleen_slices(total_slices=100)\n",
        "log_liver_slices(total_slices=100)\n",
        "# 🐝 finish the run\n",
        "wandb.finish()"
      ],
      "metadata": {
        "id": "_4zZ3rzRjKZ6"
      },
      "execution_count": null,
      "outputs": []
    },
    {
      "cell_type": "code",
      "source": [
        "config = {\n",
        "    # data\n",
        "    \"num_workers\": 0,\n",
        "\n",
        "\n",
        "    # train settings\n",
        "    \"train_batch_size\": 30,\n",
        "    \"val_batch_size\": 1,\n",
        "    \"learning_rate\": 1e-4,\n",
        "    \"max_epochs\": 500,\n",
        "    \"val_interval\": 2, # check validation score after n epochs\n",
        "    \"lr_scheduler\": \"cosine_decay\", # just to keep track\n",
        "\n",
        "    # Unet model (you can even use nested dictionary and this will be handled by W&B automatically)\n",
        "    \"model_type_liver\": \"unet\",\n",
        "\n",
        "    \"model_params_liver\": dict(spatial_dims=3,\n",
        "                      in_channels=1,\n",
        "                      out_channels=2,\n",
        "                      channels=(16, 32, 64, 128, 256),\n",
        "                      strides=(2, 2, 2, 2),\n",
        "                      num_res_units=2,\n",
        "                      norm=Norm.BATCH,),\n",
        "    # data\n",
        "    \"cache_rate_liver\": 1.0,\n",
        "}"
      ],
      "metadata": {
        "id": "OTxtC2ycjSpH"
      },
      "execution_count": null,
      "outputs": []
    },
    {
      "cell_type": "markdown",
      "metadata": {
        "id": "a1vDaw4aPg0n"
      },
      "source": [
        "## Define CacheDataset and DataLoader for training and validation\n",
        "\n",
        "Here we use CacheDataset to accelerate training and validation process, it's 10x faster than the regular Dataset.  \n",
        "To achieve best performance, set `cache_rate=1.0` to cache all the data, if memory is not enough, set lower value.  \n",
        "Users can also set `cache_num` instead of `cache_rate`, will use the minimum value of the 2 settings.  \n",
        "And set `num_workers` to enable multi-threads during caching.  \n",
        "If want to to try the regular Dataset, just change to use the commented code below."
      ]
    },
    {
      "cell_type": "code",
      "source": [
        "train_ds_liver = CacheDataset(\n",
        "    data=train_files_liver, transform=train_transforms_liver,\n",
        "    cache_rate=config['cache_rate_liver'], num_workers=config['num_workers'])\n",
        "# train_ds = Dataset(data=train_files, transform=train_transforms)\n",
        "\n",
        "# use batch_size=2 to load images and use RandCropByPosNegLabeld\n",
        "# to generate 2 x 4 images for network training\n",
        "train_loader_liver = DataLoader(train_ds_liver, batch_size=config['train_batch_size'], shuffle=True, num_workers=config['num_workers'])\n",
        "\n",
        "val_ds_liver = CacheDataset(\n",
        "    data=val_files_liver, transform=val_transform_liver, cache_rate=config['cache_rate_liver'], num_workers=config['num_workers'])\n",
        "# val_ds = Dataset(data=val_files, transform=val_transforms)\n",
        "val_loader_liver = DataLoader(val_ds_liver, batch_size=config['val_batch_size'], num_workers=config['num_workers'])"
      ],
      "metadata": {
        "id": "rViCTXO-kRx0"
      },
      "execution_count": null,
      "outputs": []
    },
    {
      "cell_type": "markdown",
      "metadata": {
        "id": "DzC3W1bCPg0n"
      },
      "source": [
        "## Create Model, Loss, Optimizer"
      ]
    },
    {
      "cell_type": "code",
      "source": [
        "# standard PyTorch program style: create UNet, DiceLoss and Adam optimizer\n",
        "device = torch.device(\"cuda\" if torch.cuda.is_available() else \"cpu\")\n",
        "# model_spleen = UNet(**config['model_params_spleen']).to(device)\n",
        "model_liver = UNet(**config['model_params_liver']).to(device)\n",
        "\n",
        "\n",
        "# loss_function_spleen = DiceLoss(to_onehot_y=True, softmax=True)\n",
        "loss_function_liver = DiceLoss(to_onehot_y=True, softmax=True)\n",
        "\n",
        "# optimizer_spleen = torch.optim.Adam(model_spleen.parameters(), lr=config['learning_rate'])\n",
        "optimizer_liver = torch.optim.Adam(model_liver.parameters(), lr=config['learning_rate'])\n",
        "\n",
        "# dice_metric_spleen = DiceMetric(include_background=False, reduction=\"mean\")\n",
        "dice_metric_liver = DiceMetric(include_background=False, reduction=\"mean\")\n",
        "\n",
        "\n",
        "# scheduler_spleen = CosineAnnealingLR(optimizer_spleen, T_max=config['max_epochs'], eta_min=1e-9)\n",
        "scheduler_liver = CosineAnnealingLR(optimizer_liver, T_max=config['max_epochs'], eta_min=1e-9)"
      ],
      "metadata": {
        "id": "XzqANOZHkzbm"
      },
      "execution_count": null,
      "outputs": []
    },
    {
      "cell_type": "code",
      "source": [
        "for name, param in model_liver.named_parameters():\n",
        "    print(name)"
      ],
      "metadata": {
        "id": "StIqE0SF1CQa"
      },
      "execution_count": null,
      "outputs": []
    },
    {
      "cell_type": "markdown",
      "metadata": {
        "id": "nmOtJ4uXPg0n"
      },
      "source": [
        "## Execute a typical PyTorch training process"
      ]
    },
    {
      "cell_type": "code",
      "execution_count": null,
      "metadata": {
        "scrolled": true,
        "tags": [],
        "id": "qoyyI_QmPg0n"
      },
      "outputs": [],
      "source": [
        "# 🐝 initialize a wandb run\n",
        "wandb.init(\n",
        "    project=\"SegViz_Liveronly\",\n",
        "    config=config\n",
        ")\n",
        "\n",
        "# 🐝 log gradients of the model to wandb\n",
        "wandb.watch(model_liver, log_freq=100)\n",
        "\n",
        "max_epochs = 500\n",
        "val_interval = 2\n",
        "\n",
        "best_metric_spleen = -1\n",
        "best_metric_liver = -1\n",
        "\n",
        "best_metric_epoch_spleen = -1\n",
        "best_metric_epoch_liver = -1\n",
        "\n",
        "epoch_loss_values_spleen = []\n",
        "metric_values_spleen = []\n",
        "\n",
        "epoch_loss_values_liver = []\n",
        "metric_values_liver = []\n",
        "\n",
        "\n",
        "\n",
        "post_pred_liver = Compose([AsDiscrete(argmax=True, to_onehot=2)])\n",
        "post_label_liver = Compose([AsDiscrete(to_onehot=2)])\n",
        "\n",
        "for epoch in range(max_epochs):\n",
        "  epoch_loss_spleen = 0\n",
        "  epoch_loss_liver = 0\n",
        "\n",
        "  step_0 = 0\n",
        "  step_1 = 0\n",
        "  \n",
        "  # For one epoch\n",
        "  \n",
        "  print(\"-\" * 10)\n",
        "  print(f\"epoch {epoch + 1}/{max_epochs}\")\n",
        "  \n",
        "  model_liver.train()\n",
        "  \n",
        "  # One forward pass of the liver data through the liver UNet\n",
        "  for batch_data_liver in train_loader_liver:\n",
        "      step_1 += 1\n",
        "      inputs_liver, labels_liver = (\n",
        "          batch_data_liver[\"image\"].to(device),\n",
        "          batch_data_liver[\"label\"].to(device),\n",
        "      )\n",
        "      labels_liver[labels_liver != 1] = 0\n",
        "      optimizer_liver.zero_grad()\n",
        "      outputs_liver = model_liver(inputs_liver)\n",
        "      loss_liver = loss_function_liver(outputs_liver, labels_liver)\n",
        "      loss_liver.backward()\n",
        "      optimizer_liver.step()\n",
        "      epoch_loss_liver += loss_liver.item()\n",
        "      print(\n",
        "          f\"{step_1}/{len(train_ds_liver) // train_loader_liver.batch_size}, \"\n",
        "          f\"train_loss: {loss_liver.item():.4f}\")\n",
        "      wandb.log({\"train/loss liver\": loss_liver.item()})\n",
        "  epoch_loss_liver /= step_1\n",
        "  epoch_loss_values_liver.append(epoch_loss_liver)\n",
        "  print(f\"epoch {epoch + 1} average loss liver: {epoch_loss_liver:.4f}\")\n",
        "  \n",
        "  scheduler_liver.step()\n",
        "\n",
        "  wandb.log({\"train/loss_epoch liver\": epoch_loss_liver})\n",
        "      # 🐝 log learning rate after each epoch to wandb\n",
        "  wandb.log({\"learning_rate liver\": scheduler_liver.get_lr()[0]})\n",
        "\n",
        "  # Validation \n",
        "  if (epoch + 1) % val_interval == 0:\n",
        "    # model_spleen.eval()\n",
        "    model_liver.eval()\n",
        "    with torch.no_grad():\n",
        "      # Validation forward Liver \n",
        "      for val_data_liver in val_loader_liver:\n",
        "          val_inputs_liver, val_labels_liver = (\n",
        "              val_data_liver[\"image\"].to(device),\n",
        "              val_data_liver[\"label\"].to(device),\n",
        "          )\n",
        "          val_labels_liver[val_labels_liver != 1] = 0\n",
        "          roi_size = (160, 160, 160)\n",
        "          sw_batch_size = 4\n",
        "          val_outputs_liver = sliding_window_inference(\n",
        "              val_inputs_liver, roi_size, sw_batch_size, model_liver)\n",
        "          val_outputs_liver = [post_pred_liver(i) for i in decollate_batch(val_outputs_liver)]\n",
        "          val_labels_liver = [post_label_liver(i) for i in decollate_batch(val_labels_liver)]\n",
        "          # compute metric for current iteration\n",
        "          dice_metric_liver(y_pred=val_outputs_liver, y=val_labels_liver)\n",
        "\n",
        "      # aggregate the final mean dice result\n",
        "      metric_liver = dice_metric_liver.aggregate().item()\n",
        "      wandb.log({\"val/dice_metric liver\": metric_liver})\n",
        "\n",
        "      scheduler_liver.step(metric_liver)\n",
        "      # reset the status for next validation round\n",
        "      dice_metric_liver.reset()\n",
        "\n",
        "      metric_values_liver.append(metric_liver)\n",
        "      if metric_liver > best_metric_liver:\n",
        "          best_metric_liver = metric_liver\n",
        "          best_metric_epoch_liver = epoch + 1\n",
        "          torch.save(model_liver.state_dict(), os.path.join(\n",
        "              root_dir, \"best_metric_model_liveronly_128_rescrop.pth\"))\n",
        "          print(\"saved new best metric model for liver dataset\")\n",
        "      print(\n",
        "          f\"current epoch: {epoch + 1} current mean dice for liver: {metric_liver:.4f}\"\n",
        "          f\"\\nbest mean dice for liver: {best_metric_liver:.4f} \"\n",
        "          f\"at epoch: {best_metric_epoch_liver}\"\n",
        "      )\n",
        "\n",
        "\n",
        "# wandb.log({\"best_dice_metric spleen\": best_metric_spleen, \"best_metric_epoch spleen\": best_metric_epoch_spleen})\n",
        "wandb.log({\"best_dice_metric liver\": best_metric_liver, \"best_metric_epoch liver\": best_metric_epoch_liver})\n",
        "\n",
        "best_model_path_liver = os.path.join(root_dir, \"best_metric_model_liveronly_128_rescrop.pth\")\n",
        "model_artifact = wandb.Artifact(\n",
        "            \"unet\", type=\"model\",\n",
        "            description=\"Segviz branch liver\",\n",
        "            metadata=dict(config['model_params_liver']))\n",
        "model_artifact.add_file(best_model_path_liver)\n",
        "wandb.log_artifact(model_artifact)"
      ]
    },
    {
      "cell_type": "markdown",
      "metadata": {
        "id": "oEuTuXmaPg0o"
      },
      "source": [
        "## Plot the loss and metric"
      ]
    },
    {
      "cell_type": "code",
      "source": [
        "plt.figure(\"train\", (12, 6))\n",
        "plt.subplot(1, 2, 1)\n",
        "plt.title(\"Epoch Average Loss\")\n",
        "x = [i + 1 for i in range(len(epoch_loss_values_liver))]\n",
        "y = epoch_loss_values_liver\n",
        "plt.xlabel(\"epoch\")\n",
        "plt.plot(x, y)\n",
        "plt.subplot(1, 2, 2)\n",
        "plt.title(\"Val Mean Dice\")\n",
        "x = [val_interval * (i + 1) for i in range(len(metric_values_liver))]\n",
        "y = metric_values_liver\n",
        "plt.xlabel(\"epoch\")\n",
        "plt.plot(x, y)\n",
        "plt.show()"
      ],
      "metadata": {
        "id": "3_rd2Ke-j2ZP"
      },
      "execution_count": null,
      "outputs": []
    },
    {
      "cell_type": "markdown",
      "metadata": {
        "id": "uht7UnlxPg0o"
      },
      "source": [
        "## Check best model output with the input image and label"
      ]
    },
    {
      "cell_type": "code",
      "source": [
        "model_liver.load_state_dict(torch.load(\n",
        "    os.path.join(root_dir, \"best_metric_model_liveronly_128_rescrop.pth\")))\n",
        "model_liver.eval()\n",
        "with torch.no_grad():\n",
        "    for i, val_data in enumerate(val_loader_liver):\n",
        "        roi_size = (160, 160, 160)\n",
        "        sw_batch_size = 4\n",
        "        val_outputs = sliding_window_inference(\n",
        "            val_data[\"image\"].to(device), roi_size, sw_batch_size, model_liver\n",
        "        )\n",
        "        # plot the slice [:, :, 80]\n",
        "        plt.figure(\"check\", (18, 6))\n",
        "        plt.subplot(1, 3, 1)\n",
        "        plt.title(f\"image {i}\")\n",
        "        plt.imshow(val_data[\"image\"][0, 0, :, :, 200], cmap=\"gray\")\n",
        "        plt.subplot(1, 3, 2)\n",
        "        plt.title(f\"label {i}\")\n",
        "        plt.imshow(val_data[\"label\"][0, 0, :, :, 200])\n",
        "        plt.subplot(1, 3, 3)\n",
        "        plt.title(f\"output {i}\")\n",
        "        plt.imshow(torch.argmax(\n",
        "            val_outputs, dim=1).detach().cpu()[0, :, :, 200])\n",
        "        plt.show()\n",
        "        if i == 2:\n",
        "            break"
      ],
      "metadata": {
        "id": "KzaU4sTLKHg9"
      },
      "execution_count": null,
      "outputs": []
    }
  ],
  "metadata": {
    "kernelspec": {
      "display_name": "Python 3.8.10 64-bit",
      "language": "python",
      "name": "python3"
    },
    "language_info": {
      "codemirror_mode": {
        "name": "ipython",
        "version": 3
      },
      "file_extension": ".py",
      "mimetype": "text/x-python",
      "name": "python",
      "nbconvert_exporter": "python",
      "pygments_lexer": "ipython3",
      "version": "3.8.10"
    },
    "vscode": {
      "interpreter": {
        "hash": "916dbcbb3f70747c44a77c7bcd40155683ae19c65e1c03b4aa3499c5328201f1"
      }
    },
    "colab": {
      "provenance": [],
      "collapsed_sections": [
        "J3VQX11KPg0o"
      ]
    },
    "accelerator": "GPU",
    "gpuClass": "standard"
  },
  "nbformat": 4,
  "nbformat_minor": 0
}
{
  "cells": [
    {
      "cell_type": "markdown",
      "metadata": {
        "id": "e13XsnQ94m75"
      },
      "source": [
        "# Notebook to calculate the Dice metrics for all the trained models"
      ]
    },
    {
      "cell_type": "code",
      "execution_count": null,
      "metadata": {
        "id": "B3eIjeNzPg0j"
      },
      "outputs": [],
      "source": [
        "from monai.utils import first, set_determinism\n",
        "from medpy.metric.binary import dc as dice_coef\n",
        "from medpy.metric.binary import jc as jacc\n",
        "from monai.transforms import (\n",
        "    AsDiscrete,\n",
        "    AsDiscreted,\n",
        "    EnsureType,\n",
        "    Activationsd,\n",
        "    EnsureChannelFirstd,\n",
        "    Compose,\n",
        "    CropForegroundd,\n",
        "    LoadImaged,\n",
        "    Orientationd,\n",
        "    RandCropByPosNegLabeld,\n",
        "    SaveImaged,\n",
        "    RandAffined,\n",
        "    ScaleIntensityRanged,\n",
        "    Spacingd,\n",
        "    Invertd,\n",
        "    Resized,\n",
        "    RandFlipd,\n",
        "    RandShiftIntensityd,\n",
        "    Spacingd,\n",
        "    RandRotate90d,\n",
        "    EnsureTyped,\n",
        "    Transpose,\n",
        ")\n",
        "from monai.handlers.utils import from_engine\n",
        "from monai.networks.nets import UNet, BasicUNet\n",
        "from monai.networks.layers import Norm\n",
        "from torch.optim.lr_scheduler import CosineAnnealingLR\n",
        "\n",
        "from monai.metrics import DiceMetric, ROCAUCMetric, MSEMetric\n",
        "from monai.networks.utils import copy_model_state\n",
        "from monai.optimizers import generate_param_groups\n",
        "from monai.losses import DiceLoss\n",
        "from monai.inferers import sliding_window_inference\n",
        "from monai.data import CacheDataset, DataLoader, Dataset, decollate_batch\n",
        "from monai.config import print_config\n",
        "from monai.apps import download_and_extract\n",
        "import torch\n",
        "import matplotlib.pyplot as plt\n",
        "import tempfile\n",
        "import shutil\n",
        "import os\n",
        "import time\n",
        "import glob\n",
        "import numpy as np\n",
        "import wandb\n",
        "import nibabel as nib\n",
        "import copy\n",
        "\n",
        "%matplotlib inline"
      ]
    },
    {
      "cell_type": "code",
      "execution_count": null,
      "metadata": {
        "id": "XGwQQ3xA2PAh"
      },
      "outputs": [],
      "source": [
        "!nvidia-smi"
      ]
    },
    {
      "cell_type": "code",
      "execution_count": null,
      "metadata": {
        "id": "QovUUOzklUx1"
      },
      "outputs": [],
      "source": [
        "torch.backends.cudnn.benchmark = True"
      ]
    },
    {
      "cell_type": "markdown",
      "metadata": {
        "id": "G8kPOLVIPg0k"
      },
      "source": [
        "## Setup imports"
      ]
    },
    {
      "cell_type": "markdown",
      "metadata": {
        "id": "r7hO81pBPg0l"
      },
      "source": [
        "## Setup data directory\n",
        "\n",
        "You can specify a directory with the `MONAI_DATA_DIRECTORY` environment variable.  \n",
        "This allows you to save results and reuse downloads.  \n",
        "If not specified a temporary directory will be used."
      ]
    },
    {
      "cell_type": "code",
      "execution_count": null,
      "metadata": {
        "id": "8h5uHSK9Pg0l"
      },
      "outputs": [],
      "source": [
        "directory = os.environ.get(\"MONAI_DATA_DIRECTORY\")\n",
        "root_dir = 'PATH/SegViz/'\n",
        "print(root_dir)"
      ]
    },
    {
      "cell_type": "markdown",
      "source": [
        "Example path to one dataset - In this case the KITS19"
      ],
      "metadata": {
        "id": "LWTX-CR6PS6c"
      }
    },
    {
      "cell_type": "code",
      "execution_count": null,
      "metadata": {
        "id": "uWnH9rOiXJAX"
      },
      "outputs": [],
      "source": [
        "train_images = sorted(\n",
        "    glob.glob(os.path.join('PATH//SegViz/Task040_KiTS', \"imagesTr\", \"*.nii.gz\")))\n",
        "train_labels = sorted(\n",
        "    glob.glob(os.path.join('PATH/SegViz/Task040_KiTS', \"labelsTr\", \"*.nii.gz\")))\n",
        "data_dicts_spleen = [\n",
        "    {\"image\": image_name, \"label\": label_name}\n",
        "    for image_name, label_name in zip(train_images, train_labels)\n",
        "]\n",
        "train_files_spleen = data_dicts_spleen[-42:]"
      ]
    },
    {
      "cell_type": "code",
      "execution_count": null,
      "metadata": {
        "id": "Nkf8-qnK4qXr"
      },
      "outputs": [],
      "source": [
        "train_transforms_spleen = Compose(\n",
        "    [\n",
        "        LoadImaged(keys=[\"image\", \"label\"]),\n",
        "        EnsureChannelFirstd(keys=[\"image\", \"label\"]),\n",
        "        ScaleIntensityRanged(\n",
        "            keys=[\"image\"], a_min=-79, a_max=304,\n",
        "            b_min=0.0, b_max=1.0, clip=True,\n",
        "        ),\n",
        "        Orientationd(keys=[\"image\", \"label\"], axcodes=\"RAS\"),\n",
        "        Spacingd(keys=[\"image\", \"label\"], pixdim=(\n",
        "            1.5, 1.5, 2.0), mode=(\"bilinear\", \"nearest\")),\n",
        "        Resized(keys=[\"image\"], spatial_size=(256,256,128)),   \n",
        "        Resized(keys=[\"label\"], spatial_size=(256,256,128), mode='nearest'), \n",
        "        #CropForegroundd(keys=[\"image\", \"label\"], source_key=\"image\"),\n",
        "        \n",
        "    ]\n",
        ")"
      ]
    },
    {
      "cell_type": "code",
      "execution_count": null,
      "metadata": {
        "id": "Dbtk1O6J33va"
      },
      "outputs": [],
      "source": [
        "train_ds_spleen = CacheDataset(\n",
        "    data=train_files_spleen, transform=train_transforms_spleen,\n",
        "    cache_rate=1.0, num_workers=0)\n",
        "\n",
        "train_loader_spleen = DataLoader(train_ds_spleen, batch_size=1, shuffle=False, num_workers=0)\n"
      ]
    },
    {
      "cell_type": "code",
      "execution_count": null,
      "metadata": {
        "id": "wjB8Lt7M5Irk"
      },
      "outputs": [],
      "source": [
        "config = {\n",
        "    # data\n",
        "    \"cache_rate_spleen\": 1.0,\n",
        "    \"num_workers\": 5,\n",
        "\n",
        "\n",
        "    # train settings\n",
        "    \"train_batch_size\": 2,\n",
        "    \"val_batch_size\": 1,\n",
        "    \"learning_rate\": 1e-4,\n",
        "    \"max_epochs\": 1000,\n",
        "    \"val_interval\": 2, # check validation score after n epochs\n",
        "    \"lr_scheduler\": \"cosine_decay\", # just to keep track\n",
        "\n",
        "\n",
        "    # Unet model (you can even use nested dictionary and this will be handled by W&B automatically)\n",
        "    \"model_type_spleen\": \"unet\", # dummy names just to keep track\n",
        "    \"model_type_liver\": \"unet\",\n",
        "    \"model_params_spleen\": dict(spatial_dims=3,\n",
        "                  in_channels=1,\n",
        "                  out_channels=2,\n",
        "                  channels=(16, 32, 64, 128, 256),\n",
        "                  strides=(2, 2, 2, 2),\n",
        "                  num_res_units=2,\n",
        "                  norm=Norm.BATCH,),\n",
        "    \"model_params_liver\": dict(spatial_dims=3,\n",
        "                      in_channels=1,\n",
        "                      out_channels=5,\n",
        "                      channels=(16, 32, 64, 128, 256),\n",
        "                      strides=(2, 2, 2, 2),\n",
        "                      num_res_units=2,\n",
        "                      norm=Norm.BATCH,),\n",
        "    # data\n",
        "    \"cache_rate_liver\": 0.4,\n",
        "}"
      ]
    },
    {
      "cell_type": "code",
      "execution_count": null,
      "metadata": {
        "id": "VI6d2cng5dwQ"
      },
      "outputs": [],
      "source": [
        "# standard PyTorch program style: create UNet, DiceLoss and Adam optimizer\n",
        "device = torch.device(\"cuda\" if torch.cuda.is_available() else \"cpu\")\n",
        "model_spleen = UNet(**config['model_params_spleen']).to(device)\n",
        "model_liver = UNet(**config['model_params_liver']).to(device)\n",
        "\n",
        "post_pred_spleen = Compose([AsDiscrete(argmax=True, to_onehot=2)])\n",
        "post_label_spleen = Compose([AsDiscrete(to_onehot=2)])"
      ]
    },
    {
      "cell_type": "markdown",
      "metadata": {
        "id": "dVr0fbBI6TXZ"
      },
      "source": [
        "# Base"
      ]
    },
    {
      "cell_type": "code",
      "execution_count": null,
      "metadata": {
        "id": "qJAu54t06NSJ"
      },
      "outputs": [],
      "source": [
        "model_spleen.load_state_dict(torch.load(\n",
        "    os.path.join(root_dir, \"best_metric_model_kitsonly_128_rescrop.pth\")))\n",
        "model_spleen.eval()\n",
        "dice_metric_all_base = []\n",
        "jacc_all_only = []\n",
        "\n",
        "slice_map = {\n",
        "    \"img0035.nii.gz\": 60,\n",
        "    \"img0036.nii.gz\": 100,\n",
        "    \"img0037.nii.gz\": 95,\n",
        "    \"img0038.nii.gz\": 95,\n",
        "    \"img0039.nii.gz\": 95,\n",
        "    \"img0040.nii.gz\": 60,\n",
        "}\n",
        "case_num = 1\n",
        "start_time = time.time()\n",
        "\n",
        "with torch.no_grad():\n",
        "    for i, val_data in (enumerate(train_loader_spleen)):\n",
        "        roi_size = (160, 160, 160)\n",
        "        img_name = os.path.split(val_data['image'].meta[\"filename_or_obj\"][0])[1]\n",
        "        sw_batch_size = 4\n",
        "        val_outputs = sliding_window_inference(\n",
        "            val_data[\"image\"].to(device), roi_size, sw_batch_size, model_spleen\n",
        "        )\n",
        "        val_outputs_spleen = torch.argmax(\n",
        "            val_outputs, dim=1).detach().cpu()[0, :, :, :]\n",
        "        val_labels_spleen = val_data[\"label\"][0, 0, :, :, :]\n",
        "        \n",
        "\n",
        "        assert val_labels_spleen.shape == val_outputs_spleen.shape\n",
        "\n",
        "        dice_metric_all_base.append(dice_coef(val_outputs_spleen, val_labels_spleen))\n",
        "\n",
        "        plt.figure()\n",
        "        plt.imshow(val_data[\"image\"][0, 0, :, :,85], cmap=\"gray\")\n",
        "        plt.axis('off')\n",
        "        plt.savefig(f\"PATH//Images/kits/base/{img_name}_img.png\")\n",
        "\n",
        "        plt.figure()\n",
        "        plt.imshow(val_labels_spleen[:, :, 85], cmap='gray')\n",
        "        plt.axis('off')\n",
        "        plt.savefig(f\"PATH//Images/kits/base/{img_name}_label.png\")\n",
        "\n",
        "        plt.figure()\n",
        "\n",
        "        plt.imshow(val_outputs_spleen[:, :, 85], cmap='gray')\n",
        "        plt.axis('off')\n",
        "        plt.savefig(f\"PATH//Images/kits/base/{img_name}_pred.png\")\n",
        "\n",
        "        plt.show()"
      ]
    },
    {
      "cell_type": "code",
      "execution_count": null,
      "metadata": {
        "id": "lH9WqCcQ7NIT"
      },
      "outputs": [],
      "source": [
        "print(np.mean(dice_metric_all_base), np.std(dice_metric_all_base))"
      ]
    },
    {
      "cell_type": "markdown",
      "metadata": {
        "id": "CvKR92CZO3sW"
      },
      "source": [
        "# Fedavg"
      ]
    },
    {
      "cell_type": "code",
      "execution_count": null,
      "metadata": {
        "id": "WYjndZWwO3sW"
      },
      "outputs": [],
      "source": [
        "model_spleen.load_state_dict(torch.load(\n",
        "    os.path.join(root_dir,\"best_metric_model_kits_128_segviz_LSPK.pth\")))\n",
        "model_spleen.eval()\n",
        "dice_metric_all_fedavg = []\n",
        "jacc_all_spleenonly = []\n",
        "slice_map = {\n",
        "    \"img0035.nii.gz\": 60,\n",
        "    \"img0036.nii.gz\": 100,\n",
        "    \"img0037.nii.gz\": 95,\n",
        "    \"img0038.nii.gz\": 95,\n",
        "    \"img0039.nii.gz\": 95,\n",
        "    \"img0040.nii.gz\": 60,\n",
        "}\n",
        "case_num = 1\n",
        "\n",
        "start_time = time.time()\n",
        "with torch.no_grad():\n",
        "    for i, val_data in (enumerate(train_loader_spleen)):\n",
        "        roi_size = (160, 160, 160)\n",
        "        img_name = os.path.split(val_data['image'].meta[\"filename_or_obj\"][0])[1]\n",
        "        sw_batch_size = 4\n",
        "        val_outputs = sliding_window_inference(\n",
        "            val_data[\"image\"].to(device), roi_size, sw_batch_size, model_spleen\n",
        "        )\n",
        "        val_outputs_spleen = torch.argmax(\n",
        "            val_outputs, dim=1).detach().cpu()[0, :, :, :]\n",
        "        val_labels_spleen = val_data[\"label\"][0, 0, :, :, :]\n",
        "        \n",
        "        assert val_labels_spleen.shape == val_outputs_spleen.shape\n",
        "\n",
        "        dice_metric_all_fedavg.append(dice_coef(val_outputs_spleen, val_labels_spleen))\n",
        "\n",
        "\n",
        "        plt.figure()\n",
        "\n",
        "        plt.imshow(val_data[\"image\"][0, 0, :, :,85], cmap=\"gray\")\n",
        "        plt.axis('off')\n",
        "        plt.savefig(f\"PATH//Images/kits/fedavg/{img_name}_img.png\")\n",
        "\n",
        "        plt.figure()\n",
        "        plt.imshow(val_labels_spleen[:, :, 85], cmap='gray')\n",
        "        plt.axis('off')\n",
        "        plt.savefig(f\"PATH//Images/kits/fedavg/{img_name}_label.png\")\n",
        "\n",
        "        plt.figure()\n",
        "        plt.imshow(val_outputs_spleen[:, :, 85], cmap='gray')\n",
        "        plt.axis('off')\n",
        "        plt.savefig(f\"PATH//Images/kits/fedavg/{img_name}_pred.png\")\n",
        "\n",
        "        plt.show()"
      ]
    },
    {
      "cell_type": "code",
      "execution_count": null,
      "metadata": {
        "id": "QlTpBo-5O3sX"
      },
      "outputs": [],
      "source": [
        "print(np.mean(dice_metric_all_fedavg), np.std(dice_metric_all_fedavg))"
      ]
    },
    {
      "cell_type": "markdown",
      "metadata": {
        "id": "BrkJimmLO3sX"
      },
      "source": [
        "# FedAvg + FT"
      ]
    },
    {
      "cell_type": "code",
      "execution_count": null,
      "metadata": {
        "id": "I3bKQNcwO3sX"
      },
      "outputs": [],
      "source": [
        "model_spleen.load_state_dict(torch.load(\n",
        "    os.path.join(root_dir,\"best_metric_model_kits_128segviz_finetuned_LSPK.pth\")))\n",
        "model_spleen.eval()\n",
        "dice_metric_all_fedavgft = []\n",
        "jacc_all_spleenonly = []\n",
        "slice_map = {\n",
        "    \"img0035.nii.gz\": 60,\n",
        "    \"img0036.nii.gz\": 100,\n",
        "    \"img0037.nii.gz\": 95,\n",
        "    \"img0038.nii.gz\": 95,\n",
        "    \"img0039.nii.gz\": 95,\n",
        "    \"img0040.nii.gz\": 60,\n",
        "}\n",
        "case_num = 1\n",
        "\n",
        "start_time = time.time()\n",
        "with torch.no_grad():\n",
        "    for i, val_data in (enumerate(train_loader_spleen)):\n",
        "        roi_size = (160, 160, 160)\n",
        "        img_name = os.path.split(val_data['image'].meta[\"filename_or_obj\"][0])[1]\n",
        "        sw_batch_size = 4\n",
        "        val_outputs = sliding_window_inference(\n",
        "            val_data[\"image\"].to(device), roi_size, sw_batch_size, model_spleen\n",
        "        )\n",
        "        val_outputs_spleen = torch.argmax(\n",
        "            val_outputs, dim=1).detach().cpu()[0, :, :, :]\n",
        "        val_labels_spleen = val_data[\"label\"][0, 0, :, :, :]\n",
        "\n",
        "        assert val_labels_spleen.shape == val_outputs_spleen.shape\n",
        "\n",
        "        dice_metric_all_fedavgft.append(dice_coef(val_outputs_spleen, val_labels_spleen))\n",
        "\n",
        "        plt.figure()\n",
        "        plt.imshow(val_data[\"image\"][0, 0, :, :,80], cmap=\"gray\")\n",
        "        plt.axis('off')\n",
        "        plt.savefig(f\"PATH//Images/Kidneys/{img_name}_img.png\")\n",
        "\n",
        "        plt.figure()\n",
        "        plt.imshow(val_labels_spleen[:, :, 80], cmap='gray')\n",
        "        plt.axis('off')\n",
        "        plt.savefig(f\"PATH//Images/Kidneys/{img_name}_label.png\")\n",
        "\n",
        "        plt.figure()\n",
        "        plt.imshow(val_outputs_spleen[:, :, 80], cmap='gray')\n",
        "        plt.axis('off')\n",
        "        plt.savefig(f\"PATH//Images/Kidneys/{img_name}_pred.png\")\n",
        "\n",
        "        plt.show()"
      ]
    },
    {
      "cell_type": "code",
      "execution_count": null,
      "metadata": {
        "id": "00yW73KTO3sX"
      },
      "outputs": [],
      "source": [
        "print(np.mean(dice_metric_all_fedavgft), np.std(dice_metric_all_fedavgft))"
      ]
    },
    {
      "cell_type": "markdown",
      "metadata": {
        "id": "Ya3XNKBEO3sX"
      },
      "source": [
        "# FedBN\n"
      ]
    },
    {
      "cell_type": "code",
      "execution_count": null,
      "metadata": {
        "id": "cdfIRvhCO3sX"
      },
      "outputs": [],
      "source": [
        "model_spleen.load_state_dict(torch.load(\n",
        "    os.path.join(root_dir,\"best_metric_model_kits_128_segviz_LSPK_fedbn.pth\")))\n",
        "model_spleen.eval()\n",
        "dice_metric_all_fedbn = []\n",
        "jacc_all_spleenonly = []\n",
        "slice_map = {\n",
        "    \"img0035.nii.gz\": 60,\n",
        "    \"img0036.nii.gz\": 100,\n",
        "    \"img0037.nii.gz\": 95,\n",
        "    \"img0038.nii.gz\": 95,\n",
        "    \"img0039.nii.gz\": 95,\n",
        "    \"img0040.nii.gz\": 60,\n",
        "}\n",
        "case_num = 1\n",
        "\n",
        "start_time = time.time()\n",
        "with torch.no_grad():\n",
        "    for i, val_data in (enumerate(train_loader_spleen)):\n",
        "        roi_size = (160, 160, 160)\n",
        "        img_name = os.path.split(val_data['image'].meta[\"filename_or_obj\"][0])[1]\n",
        "        sw_batch_size = 4\n",
        "        val_outputs = sliding_window_inference(\n",
        "            val_data[\"image\"].to(device), roi_size, sw_batch_size, model_spleen\n",
        "        )\n",
        "        val_outputs_spleen = torch.argmax(\n",
        "            val_outputs, dim=1).detach().cpu()[0, :, :, :]\n",
        "        val_labels_spleen = val_data[\"label\"][0, 0, :, :, :]\n",
        "\n",
        "        assert val_labels_spleen.shape == val_outputs_spleen.shape\n",
        "\n",
        "        dice_metric_all_fedbn.append(dice_coef(val_outputs_spleen, val_labels_spleen))\n",
        "        plt.figure()\n",
        "        plt.imshow(val_data[\"image\"][0, 0, :, :,85], cmap=\"gray\")\n",
        "        plt.axis('off')\n",
        "        plt.savefig(f\"PATH//Images/kits/fedbn/{img_name}_img.png\")\n",
        "\n",
        "        plt.figure()\n",
        "        plt.imshow(val_labels_spleen[:, :, 85], cmap='gray')\n",
        "        plt.axis('off')\n",
        "        plt.savefig(f\"PATH//Images/kits/fedbn/{img_name}_label.png\")\n",
        "\n",
        "        plt.figure()\n",
        "        plt.imshow(val_outputs_spleen[:, :, 85], cmap='gray')\n",
        "        plt.axis('off')\n",
        "        plt.savefig(f\"PATH//Images/kits/fedbn/{img_name}_pred.png\")\n",
        "\n",
        "        plt.show()"
      ]
    },
    {
      "cell_type": "code",
      "execution_count": null,
      "metadata": {
        "id": "adHexDduO3sY"
      },
      "outputs": [],
      "source": [
        "print(np.mean(dice_metric_all_fedbn), np.std(dice_metric_all_fedbn))"
      ]
    },
    {
      "cell_type": "markdown",
      "metadata": {
        "id": "FhizNlNNO3sY"
      },
      "source": [
        "# Fedbn + FT\n"
      ]
    },
    {
      "cell_type": "code",
      "execution_count": null,
      "metadata": {
        "id": "Va75MKFSO3sY"
      },
      "outputs": [],
      "source": [
        "model_spleen.load_state_dict(torch.load(\n",
        "    os.path.join(root_dir,\"best_metric_model_kits_finetuned_LSPK_fedbn.pth\")))\n",
        "model_spleen.eval()\n",
        "dice_metric_all_fedbnft = []\n",
        "jacc_all_spleenonly = []\n",
        "slice_map = {\n",
        "    \"img0035.nii.gz\": 60,\n",
        "    \"img0036.nii.gz\": 100,\n",
        "    \"img0037.nii.gz\": 95,\n",
        "    \"img0038.nii.gz\": 95,\n",
        "    \"img0039.nii.gz\": 95,\n",
        "    \"img0040.nii.gz\": 60,\n",
        "}\n",
        "case_num = 1\n",
        "\n",
        "start_time = time.time()\n",
        "with torch.no_grad():\n",
        "    for i, val_data in (enumerate(train_loader_spleen)):\n",
        "        roi_size = (160, 160, 160)\n",
        "        img_name = os.path.split(val_data['image'].meta[\"filename_or_obj\"][0])[1]\n",
        "        sw_batch_size = 4\n",
        "        val_outputs = sliding_window_inference(\n",
        "            val_data[\"image\"].to(device), roi_size, sw_batch_size, model_spleen\n",
        "        )\n",
        "        val_outputs_spleen = torch.argmax(\n",
        "            val_outputs, dim=1).detach().cpu()[0, :, :, :]\n",
        "        val_labels_spleen = val_data[\"label\"][0, 0, :, :, :]\n",
        "\n",
        "        assert val_labels_spleen.shape == val_outputs_spleen.shape\n",
        "\n",
        "        dice_metric_all_fedbnft.append(dice_coef(val_outputs_spleen, val_labels_spleen))\n",
        "\n",
        "        plt.figure()\n",
        "        plt.imshow(val_data[\"image\"][0, 0, :, :,80], cmap=\"gray\")\n",
        "        plt.axis('off')\n",
        "\n",
        "        plt.figure()\n",
        "        plt.imshow(val_labels_spleen[:, :, 80], cmap='gray')\n",
        "        plt.axis('off')\n",
        "        plt.savefig(f\"PATH//Images/Kidneys/{img_name}_label.png\")\n",
        "\n",
        "        plt.figure()\n",
        "        plt.imshow(val_outputs_spleen[:, :, 80], cmap='gray')\n",
        "        plt.axis('off')\n",
        "        plt.savefig(f\"PATH//Images/Kidneys/{img_name}_pred.png\")\n",
        "\n",
        "        plt.show()"
      ]
    },
    {
      "cell_type": "code",
      "execution_count": null,
      "metadata": {
        "id": "fkZfSnoyO3sY"
      },
      "outputs": [],
      "source": [
        "print(np.mean(dice_metric_all_fedbnft), np.std(dice_metric_all_fedbnft))"
      ]
    },
    {
      "cell_type": "markdown",
      "metadata": {
        "id": "Qswqc458O3sY"
      },
      "source": [
        "# Central"
      ]
    },
    {
      "cell_type": "code",
      "execution_count": null,
      "metadata": {
        "id": "HWqKvspYO3sY"
      },
      "outputs": [],
      "source": [
        "model_liver.load_state_dict(torch.load(\n",
        "    os.path.join(root_dir,\"best_metric_model_LSPK_combined.pth\")))\n",
        "model_liver.eval()\n",
        "dice_metric_all_central = []\n",
        "jacc_all_spleenonly = []\n",
        "slice_map = {\n",
        "    \"img0035.nii.gz\": 60,\n",
        "    \"img0036.nii.gz\": 100,\n",
        "    \"img0037.nii.gz\": 95,\n",
        "    \"img0038.nii.gz\": 95,\n",
        "    \"img0039.nii.gz\": 95,\n",
        "    \"img0040.nii.gz\": 60,\n",
        "}\n",
        "case_num = 1\n",
        "\n",
        "start_time = time.time()\n",
        "with torch.no_grad():\n",
        "    for i, val_data in (enumerate(train_loader_spleen)):\n",
        "        roi_size = (160, 160, 160)\n",
        "        img_name = os.path.split(val_data['image'].meta[\"filename_or_obj\"][0])[1]\n",
        "        sw_batch_size = 4\n",
        "        val_outputs = sliding_window_inference(\n",
        "            val_data[\"image\"].to(device), roi_size, sw_batch_size, model_liver\n",
        "        )\n",
        "        val_outputs_spleen = torch.argmax(\n",
        "            val_outputs, dim=1).detach().cpu()[0, :, :, :]\n",
        "        val_labels_spleen = val_data[\"label\"][0, 0, :, :, :]\n",
        "        \n",
        "        val_outputs_spleen[val_outputs_spleen != 4] = 0\n",
        "\n",
        "\n",
        "        assert val_labels_spleen.shape == val_outputs_spleen.shape\n",
        "\n",
        "        dice_metric_all_central.append(dice_coef(val_outputs_spleen, val_labels_spleen))\n",
        "\n",
        "        plt.figure()\n",
        "        plt.imshow(val_data[\"image\"][0, 0, :, :,85], cmap=\"gray\")\n",
        "        plt.axis('off')\n",
        "        plt.savefig(f\"PATH//Images/kits/central/{img_name}_img.png\")\n",
        "\n",
        "        plt.figure()\n",
        "        plt.imshow(val_labels_spleen[:, :, 85], cmap='gray')\n",
        "        plt.axis('off')\n",
        "        plt.savefig(f\"PATH//Images/kits/central/{img_name}_label.png\")\n",
        "\n",
        "        plt.figure()\n",
        "        plt.imshow(val_outputs_spleen[:, :, 85], cmap='gray')\n",
        "        plt.axis('off')\n",
        "        plt.savefig(f\"PATH//Images/kits/central/{img_name}_pred.png\")\n",
        "\n",
        "        plt.show()"
      ]
    },
    {
      "cell_type": "code",
      "execution_count": null,
      "metadata": {
        "id": "mYnSZYgqO3sZ"
      },
      "outputs": [],
      "source": [
        "print(np.mean(dice_metric_all_central), np.std(dice_metric_all_central))"
      ]
    },
    {
      "cell_type": "code",
      "execution_count": null,
      "metadata": {
        "id": "hyC0T7dOO3sZ"
      },
      "outputs": [],
      "source": []
    }
  ],
  "metadata": {
    "colab": {
      "provenance": []
    },
    "kernelspec": {
      "display_name": "pytorch",
      "language": "python",
      "name": "python3"
    },
    "language_info": {
      "codemirror_mode": {
        "name": "ipython",
        "version": 3
      },
      "file_extension": ".py",
      "mimetype": "text/x-python",
      "name": "python",
      "nbconvert_exporter": "python",
      "pygments_lexer": "ipython3",
      "version": "3.9.16"
    },
    "vscode": {
      "interpreter": {
        "hash": "0ca5fdb1364b7850985fadde1ce5cdfbf8a36ab9b8a2920002462139b38e4875"
      }
    }
  },
  "nbformat": 4,
  "nbformat_minor": 0
}